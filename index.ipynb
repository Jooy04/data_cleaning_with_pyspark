{
 "cells": [
  {
   "cell_type": "code",
   "execution_count": 2,
   "metadata": {},
   "outputs": [],
   "source": [
    "from pyspark.sql import SparkSession\n",
    "\n",
    "spark=SparkSession.builder.appName('rheeza').getOrCreate()"
   ]
  },
  {
   "cell_type": "code",
   "execution_count": 3,
   "metadata": {},
   "outputs": [],
   "source": [
    "#read the json file\n",
    "trials_df=spark.read.json('dataset.json', multiLine=True) \n",
    "#multiline is used to take out a corrupt row when displaying our json"
   ]
  },
  {
   "cell_type": "markdown",
   "metadata": {},
   "source": [
    "## Understanding the Dataset"
   ]
  },
  {
   "cell_type": "code",
   "execution_count": 4,
   "metadata": {},
   "outputs": [
    {
     "name": "stdout",
     "output_type": "stream",
     "text": [
      "+----------------+--------------------+---------+-----------------+-------------------+------------------------------+--------------------+\n",
      "|ageofparticipant|           clinician|drug_used|experimentenddate|experimentstartdate|noofhourspassedatfirstreaction|              result|\n",
      "+----------------+--------------------+---------+-----------------+-------------------+------------------------------+--------------------+\n",
      "|              19|{Ontario, Saul, t...|  Placebo|    1619827200000|      1617235200000|                            52|{BP normalized, r...|\n",
      "|              14|{Ontario, Saul, n...| Naproxen|    1619827200000|      1617235200000|                            78|    {Follow-up, N/A}|\n",
      "|              17|{Ontario, Saul, n...|  Placebo|    1619827200000|      1617235200000|                            14|    {Follow-up, N/A}|\n",
      "|              18|{Ontario, Will, n...| Naproxen|    1619827200000|      1617235200000|                            14|{BP normalized, N/A}|\n",
      "|              17|{Ontario, Patrick...| Naproxen|    1619827200000|      1617235200000|                            22|{No effect, rashe...|\n",
      "+----------------+--------------------+---------+-----------------+-------------------+------------------------------+--------------------+\n",
      "only showing top 5 rows\n",
      "\n"
     ]
    }
   ],
   "source": [
    "trials_df.show(5)"
   ]
  },
  {
   "cell_type": "code",
   "execution_count": 5,
   "metadata": {},
   "outputs": [
    {
     "name": "stdout",
     "output_type": "stream",
     "text": [
      "root\n",
      " |-- ageofparticipant: long (nullable = true)\n",
      " |-- clinician: struct (nullable = true)\n",
      " |    |-- branch: string (nullable = true)\n",
      " |    |-- name: string (nullable = true)\n",
      " |    |-- role: string (nullable = true)\n",
      " |-- drug_used: string (nullable = true)\n",
      " |-- experimentenddate: string (nullable = true)\n",
      " |-- experimentstartdate: string (nullable = true)\n",
      " |-- noofhourspassedatfirstreaction: long (nullable = true)\n",
      " |-- result: struct (nullable = true)\n",
      " |    |-- conclusion: string (nullable = true)\n",
      " |    |-- sideeffectsonparticipant: string (nullable = true)\n",
      "\n"
     ]
    }
   ],
   "source": [
    "#to see the datatype or structure in spark, we can use dtype() or Printschema() long datatype is int\n",
    "trials_df.printSchema()"
   ]
  },
  {
   "cell_type": "code",
   "execution_count": 6,
   "metadata": {},
   "outputs": [
    {
     "data": {
      "text/plain": [
       "['ageofparticipant',\n",
       " 'clinician',\n",
       " 'drug_used',\n",
       " 'experimentenddate',\n",
       " 'experimentstartdate',\n",
       " 'noofhourspassedatfirstreaction',\n",
       " 'result']"
      ]
     },
     "execution_count": 6,
     "metadata": {},
     "output_type": "execute_result"
    }
   ],
   "source": [
    "trials_df.columns"
   ]
  },
  {
   "cell_type": "code",
   "execution_count": 7,
   "metadata": {},
   "outputs": [],
   "source": [
    "#to flatten the columns...i.e we dont want nested columns, we want all nested to be columns\n",
    "columns= ['ageofparticipant',\n",
    " 'clinician.branch',\n",
    " 'clinician.name',\n",
    " 'clinician.role',\n",
    " 'drug_used',\n",
    " 'experimentenddate',\n",
    " 'experimentstartdate',\n",
    " 'noofhourspassedatfirstreaction',\n",
    " 'result.conclusion',\n",
    " 'result.sideeffectsonparticipant']"
   ]
  },
  {
   "cell_type": "code",
   "execution_count": 8,
   "metadata": {},
   "outputs": [
    {
     "name": "stdout",
     "output_type": "stream",
     "text": [
      "+----------------+-------+-------+---------+---------+-----------------+-------------------+------------------------------+-------------+------------------------+\n",
      "|ageofparticipant| branch|   name|     role|drug_used|experimentenddate|experimentstartdate|noofhourspassedatfirstreaction|   conclusion|sideeffectsonparticipant|\n",
      "+----------------+-------+-------+---------+---------+-----------------+-------------------+------------------------------+-------------+------------------------+\n",
      "|              19|Ontario|   Saul|therapist|  Placebo|    1619827200000|      1617235200000|                            52|BP normalized|          rashes on neck|\n",
      "|              14|Ontario|   Saul|    nurse| Naproxen|    1619827200000|      1617235200000|                            78|    Follow-up|                     N/A|\n",
      "|              17|Ontario|   Saul|    nurse|  Placebo|    1619827200000|      1617235200000|                            14|    Follow-up|                     N/A|\n",
      "|              18|Ontario|   Will|    nurse| Naproxen|    1619827200000|      1617235200000|                            14|BP normalized|                     N/A|\n",
      "|              17|Ontario|Patrick|   doctor| Naproxen|    1619827200000|      1617235200000|                            22|    No effect|          rashes on neck|\n",
      "+----------------+-------+-------+---------+---------+-----------------+-------------------+------------------------------+-------------+------------------------+\n",
      "only showing top 5 rows\n",
      "\n"
     ]
    }
   ],
   "source": [
    "trials_df.select(columns).show(5)"
   ]
  },
  {
   "cell_type": "code",
   "execution_count": 9,
   "metadata": {},
   "outputs": [],
   "source": [
    "from pyspark.sql import functions as fn"
   ]
  },
  {
   "cell_type": "code",
   "execution_count": 10,
   "metadata": {},
   "outputs": [
    {
     "name": "stdout",
     "output_type": "stream",
     "text": [
      "+----------------+----------------+--------------+--------------+---------+-----------------+-------------------+------------------------------+-----------------+-------------------------------+\n",
      "|ageofparticipant|clinician.branch|clinician.name|clinician.role|drug_used|experimentenddate|experimentstartdate|noofhourspassedatfirstreaction|result.conclusion|result.sideeffectsonparticipant|\n",
      "+----------------+----------------+--------------+--------------+---------+-----------------+-------------------+------------------------------+-----------------+-------------------------------+\n",
      "|               0|               0|             0|           109|        0|                0|                  0|                            73|               53|                              0|\n",
      "+----------------+----------------+--------------+--------------+---------+-----------------+-------------------+------------------------------+-----------------+-------------------------------+\n",
      "\n"
     ]
    }
   ],
   "source": [
    "#to check for null values.\n",
    "#counting null values\n",
    "#1. count columns where column is null\n",
    "\n",
    "#trials_df.select([fn.count(fn.when(fn.col(column).isNull, fn.column)) for column in columns]).show()\n",
    "trials_df.select([fn.count(fn.when(fn.col(column).isNull(), column)).alias(column) for column in columns]).show()"
   ]
  },
  {
   "cell_type": "markdown",
   "metadata": {},
   "source": [
    "## Data Cleaning and Transformation"
   ]
  },
  {
   "cell_type": "code",
   "execution_count": 11,
   "metadata": {},
   "outputs": [],
   "source": [
    "#after flattenning, get acopy of the flattened dataframe\n",
    "#deal with null values\n",
    "#rename column"
   ]
  },
  {
   "cell_type": "code",
   "execution_count": 23,
   "metadata": {},
   "outputs": [
    {
     "name": "stdout",
     "output_type": "stream",
     "text": [
      "root\n",
      " |-- ageofparticipant: long (nullable = true)\n",
      " |-- branch: string (nullable = true)\n",
      " |-- name: string (nullable = true)\n",
      " |-- role: string (nullable = true)\n",
      " |-- drug_used: string (nullable = true)\n",
      " |-- experimentenddate: string (nullable = true)\n",
      " |-- experimentstartdate: string (nullable = true)\n",
      " |-- noofhourspassedatfirstreaction: long (nullable = true)\n",
      " |-- conclusion: string (nullable = true)\n",
      " |-- sideeffectsonparticipant: string (nullable = true)\n",
      "\n"
     ]
    }
   ],
   "source": [
    "new_trials_df= trials_df.select(columns)\n",
    "new_trials_df.printSchema()"
   ]
  },
  {
   "cell_type": "code",
   "execution_count": 24,
   "metadata": {},
   "outputs": [
    {
     "name": "stdout",
     "output_type": "stream",
     "text": [
      "+------------------+---------------+--------------+---------------+---------+-------------------+---------------------+------------------------------+-------------+--------------------+\n",
      "|age_of_participant|clinicia_branch|head_clinician|assistants_role|drug_used|experiment_end_date|experiment_start_date|hours_passed_at_first_reaction|   conclusion|observed_side_effect|\n",
      "+------------------+---------------+--------------+---------------+---------+-------------------+---------------------+------------------------------+-------------+--------------------+\n",
      "|                19|        Ontario|          Saul|      therapist|  Placebo|      1619827200000|        1617235200000|                            52|BP normalized|      rashes on neck|\n",
      "|                14|        Ontario|          Saul|          nurse| Naproxen|      1619827200000|        1617235200000|                            78|    Follow-up|                 N/A|\n",
      "+------------------+---------------+--------------+---------------+---------+-------------------+---------------------+------------------------------+-------------+--------------------+\n",
      "only showing top 2 rows\n",
      "\n"
     ]
    }
   ],
   "source": [
    "#rename columns\n",
    "new_column_names = {\n",
    "    'ageofparticipant': 'age_of_participant'\n",
    "    , 'branch': 'clinicia_branch' #clinician_branch\n",
    "    , 'name': 'head_clinician' #clinician_name\n",
    "    , 'role': 'assistants_role' #clinician_role\n",
    "    , 'experimentenddate': 'experiment_end_date'\n",
    "    , 'experimentstartdate': 'experiment_start_date'\n",
    "    , 'noofhourspassedatfirstreaction': 'hours_passed_at_first_reaction'\n",
    "    , 'sideeffectsonparticipant': 'observed_side_effect'\n",
    "}\n",
    "new_trials_df = new_trials_df.withColumnsRenamed(new_column_names)\n",
    "new_trials_df.show(2)\n",
    "\n"
   ]
  },
  {
   "cell_type": "code",
   "execution_count": 20,
   "metadata": {},
   "outputs": [],
   "source": [
    "#cleaning null values\n",
    "new_trials_df"
   ]
  },
  {
   "cell_type": "code",
   "execution_count": 25,
   "metadata": {},
   "outputs": [
    {
     "name": "stdout",
     "output_type": "stream",
     "text": [
      "+------------------+---------------+--------------+---------------+---------+-------------------+---------------------+------------------------------+-------------+--------------------+\n",
      "|age_of_participant|clinicia_branch|head_clinician|assistants_role|drug_used|experiment_end_date|experiment_start_date|hours_passed_at_first_reaction|   conclusion|observed_side_effect|\n",
      "+------------------+---------------+--------------+---------------+---------+-------------------+---------------------+------------------------------+-------------+--------------------+\n",
      "|                19|        Ontario|          Saul|      therapist|  Placebo|      1619827200000|        1617235200000|                            52|BP normalized|      rashes on neck|\n",
      "|                14|        Ontario|          Saul|          nurse| Naproxen|      1619827200000|        1617235200000|                            78|    Follow-up|                 N/A|\n",
      "|                17|        Ontario|          Saul|          nurse|  Placebo|      1619827200000|        1617235200000|                            14|    Follow-up|                 N/A|\n",
      "|                18|        Ontario|          Will|          nurse| Naproxen|      1619827200000|        1617235200000|                            14|BP normalized|                 N/A|\n",
      "|                17|        Ontario|       Patrick|         doctor| Naproxen|      1619827200000|        1617235200000|                            22|    No effect|      rashes on neck|\n",
      "|                17|        Ontario|       Patrick|         doctor| Naproxen|      1619827200000|        1617235200000|                             4|    Follow-up|           headaches|\n",
      "|                20|        Ontario|          Saul|         doctor| Naproxen|      1619827200000|        1617235200000|                            85|    No effect|           headaches|\n",
      "|                15|        Ontario|          Saul|         doctor|  Placebo|      1619827200000|        1617235200000|                            49|    No effect|      rashes on neck|\n",
      "|                14|        Ontario|          Will|      therapist|  Placebo|      1619827200000|        1617235200000|                            84|    Follow-up|           headaches|\n",
      "|                20|        Ontario|        Colins|          nurse|  Placebo|      1619827200000|        1617235200000|                            66|    Follow-up|       arms and feet|\n",
      "|                18|        Ontario|       Patrick|         doctor|  Placebo|      1619827200000|        1617235200000|                            40|BP normalized|         light fever|\n",
      "|                17|        Ontario|       Patrick|         doctor|  Placebo|      1619827200000|        1617235200000|                            72|BP normalized|       arms and feet|\n",
      "|                19|        Ontario|        Colins|      therapist|  Placebo|      1619827200000|        1617235200000|                            36|    No effect|                 N/A|\n",
      "|                15|        Ontario|        Colins|      therapist| Naproxen|      1619827200000|        1617235200000|                            12|BP normalized|           headaches|\n",
      "|                19|        Ontario|          Saul|      therapist|  Placebo|      1619827200000|        1617235200000|                            14|    No effect|                 N/A|\n",
      "|                16|        Ontario|        Colins|          nurse|  Placebo|      1619827200000|        1617235200000|                            63|BP normalized|                 N/A|\n",
      "|                16|        Ontario|          Saul|          nurse| Naproxen|      1619827200000|        1617235200000|                            70|BP normalized|           headaches|\n",
      "|                18|        Ontario|          Will|      therapist| Naproxen|      1619827200000|        1617235200000|                            10|BP normalized|                 N/A|\n",
      "|                16|        Ontario|       Patrick|          nurse| Naproxen|      1619827200000|        1617235200000|                            11|    Follow-up|      rashes on neck|\n",
      "|                14|        Ontario|       Patrick|         doctor| Naproxen|      1619827200000|        1617235200000|                            32|    No effect|         light fever|\n",
      "+------------------+---------------+--------------+---------------+---------+-------------------+---------------------+------------------------------+-------------+--------------------+\n",
      "only showing top 20 rows\n",
      "\n"
     ]
    }
   ],
   "source": [
    "new_trials_df.show()"
   ]
  },
  {
   "cell_type": "code",
   "execution_count": 26,
   "metadata": {},
   "outputs": [],
   "source": [
    "#new_trials_df.na.fill({'conclusion' : 'unknown', 'assistant_role' : 'unknown'})\n",
    "\n",
    "new_trials_df= new_trials_df.na.fill({'conclusion' : 'unknown', 'assistants_role' : 'unknown','hours_passed_at_first_reaction': 0})"
   ]
  },
  {
   "cell_type": "code",
   "execution_count": null,
   "metadata": {},
   "outputs": [],
   "source": []
  },
  {
   "cell_type": "markdown",
   "metadata": {},
   "source": [
    "# Transformation"
   ]
  },
  {
   "cell_type": "code",
   "execution_count": 29,
   "metadata": {},
   "outputs": [],
   "source": [
    " from pyspark.sql import types as dtype"
   ]
  },
  {
   "cell_type": "code",
   "execution_count": 30,
   "metadata": {},
   "outputs": [],
   "source": [
    "# convert to int and divide by 1000\n",
    "#convert unix to datetime\n",
    "\n",
    "new_trials_df = new_trials_df\\\n",
    "    .withColumn('start_ts', fn.from_unixtime(fn.col('experiment_start_date').cast(dtypes.LongType())/1000, 'yyyy-MM-dd HH:mm:ss'))\\\n",
    "    .withColumn('start_ts', fn.col('start_ts').cast(dtypes.TimestampType()))\\\n",
    "            .withColumn('end_ts', fn.from_unixtime(fn.col('experiment_end_date').cast(dtypes.LongType())/1000, 'yyyy-MM-dd HH:mm:ss'))\\\n",
    "            .withColumn('end_ts', fn.col('end_ts').cast(dtypes.TimestampType()))"
   ]
  },
  {
   "cell_type": "code",
   "execution_count": 31,
   "metadata": {},
   "outputs": [
    {
     "name": "stdout",
     "output_type": "stream",
     "text": [
      "+------------------+---------------+--------------+---------------+---------+-------------------+---------------------+------------------------------+-------------+--------------------+-------------------+-------------------+\n",
      "|age_of_participant|clinicia_branch|head_clinician|assistants_role|drug_used|experiment_end_date|experiment_start_date|hours_passed_at_first_reaction|   conclusion|observed_side_effect|           start_ts|             end_ts|\n",
      "+------------------+---------------+--------------+---------------+---------+-------------------+---------------------+------------------------------+-------------+--------------------+-------------------+-------------------+\n",
      "|                19|        Ontario|          Saul|      therapist|  Placebo|      1619827200000|        1617235200000|                            52|BP normalized|      rashes on neck|2021-03-31 20:00:00|2021-04-30 20:00:00|\n",
      "|                14|        Ontario|          Saul|          nurse| Naproxen|      1619827200000|        1617235200000|                            78|    Follow-up|                 N/A|2021-03-31 20:00:00|2021-04-30 20:00:00|\n",
      "|                17|        Ontario|          Saul|          nurse|  Placebo|      1619827200000|        1617235200000|                            14|    Follow-up|                 N/A|2021-03-31 20:00:00|2021-04-30 20:00:00|\n",
      "|                18|        Ontario|          Will|          nurse| Naproxen|      1619827200000|        1617235200000|                            14|BP normalized|                 N/A|2021-03-31 20:00:00|2021-04-30 20:00:00|\n",
      "|                17|        Ontario|       Patrick|         doctor| Naproxen|      1619827200000|        1617235200000|                            22|    No effect|      rashes on neck|2021-03-31 20:00:00|2021-04-30 20:00:00|\n",
      "|                17|        Ontario|       Patrick|         doctor| Naproxen|      1619827200000|        1617235200000|                             4|    Follow-up|           headaches|2021-03-31 20:00:00|2021-04-30 20:00:00|\n",
      "|                20|        Ontario|          Saul|         doctor| Naproxen|      1619827200000|        1617235200000|                            85|    No effect|           headaches|2021-03-31 20:00:00|2021-04-30 20:00:00|\n",
      "|                15|        Ontario|          Saul|         doctor|  Placebo|      1619827200000|        1617235200000|                            49|    No effect|      rashes on neck|2021-03-31 20:00:00|2021-04-30 20:00:00|\n",
      "|                14|        Ontario|          Will|      therapist|  Placebo|      1619827200000|        1617235200000|                            84|    Follow-up|           headaches|2021-03-31 20:00:00|2021-04-30 20:00:00|\n",
      "|                20|        Ontario|        Colins|          nurse|  Placebo|      1619827200000|        1617235200000|                            66|    Follow-up|       arms and feet|2021-03-31 20:00:00|2021-04-30 20:00:00|\n",
      "|                18|        Ontario|       Patrick|         doctor|  Placebo|      1619827200000|        1617235200000|                            40|BP normalized|         light fever|2021-03-31 20:00:00|2021-04-30 20:00:00|\n",
      "|                17|        Ontario|       Patrick|         doctor|  Placebo|      1619827200000|        1617235200000|                            72|BP normalized|       arms and feet|2021-03-31 20:00:00|2021-04-30 20:00:00|\n",
      "|                19|        Ontario|        Colins|      therapist|  Placebo|      1619827200000|        1617235200000|                            36|    No effect|                 N/A|2021-03-31 20:00:00|2021-04-30 20:00:00|\n",
      "|                15|        Ontario|        Colins|      therapist| Naproxen|      1619827200000|        1617235200000|                            12|BP normalized|           headaches|2021-03-31 20:00:00|2021-04-30 20:00:00|\n",
      "|                19|        Ontario|          Saul|      therapist|  Placebo|      1619827200000|        1617235200000|                            14|    No effect|                 N/A|2021-03-31 20:00:00|2021-04-30 20:00:00|\n",
      "|                16|        Ontario|        Colins|          nurse|  Placebo|      1619827200000|        1617235200000|                            63|BP normalized|                 N/A|2021-03-31 20:00:00|2021-04-30 20:00:00|\n",
      "|                16|        Ontario|          Saul|          nurse| Naproxen|      1619827200000|        1617235200000|                            70|BP normalized|           headaches|2021-03-31 20:00:00|2021-04-30 20:00:00|\n",
      "|                18|        Ontario|          Will|      therapist| Naproxen|      1619827200000|        1617235200000|                            10|BP normalized|                 N/A|2021-03-31 20:00:00|2021-04-30 20:00:00|\n",
      "|                16|        Ontario|       Patrick|          nurse| Naproxen|      1619827200000|        1617235200000|                            11|    Follow-up|      rashes on neck|2021-03-31 20:00:00|2021-04-30 20:00:00|\n",
      "|                14|        Ontario|       Patrick|         doctor| Naproxen|      1619827200000|        1617235200000|                            32|    No effect|         light fever|2021-03-31 20:00:00|2021-04-30 20:00:00|\n",
      "+------------------+---------------+--------------+---------------+---------+-------------------+---------------------+------------------------------+-------------+--------------------+-------------------+-------------------+\n",
      "only showing top 20 rows\n",
      "\n"
     ]
    }
   ],
   "source": [
    "new_trials_df.show()"
   ]
  },
  {
   "cell_type": "code",
   "execution_count": null,
   "metadata": {},
   "outputs": [],
   "source": []
  }
 ],
 "metadata": {
  "kernelspec": {
   "display_name": "Python 3",
   "language": "python",
   "name": "python3"
  },
  "language_info": {
   "codemirror_mode": {
    "name": "ipython",
    "version": 3
   },
   "file_extension": ".py",
   "mimetype": "text/x-python",
   "name": "python",
   "nbconvert_exporter": "python",
   "pygments_lexer": "ipython3",
   "version": "3.11.5"
  },
  "orig_nbformat": 4
 },
 "nbformat": 4,
 "nbformat_minor": 2
}
